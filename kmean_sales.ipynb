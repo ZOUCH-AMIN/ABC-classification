{
  "nbformat": 4,
  "nbformat_minor": 0,
  "metadata": {
    "colab": {
      "name": "kmean_sales.ipynb",
      "provenance": [],
      "include_colab_link": true
    },
    "kernelspec": {
      "name": "python3",
      "display_name": "Python 3"
    },
    "language_info": {
      "name": "python"
    }
  },
  "cells": [
    {
      "cell_type": "markdown",
      "metadata": {
        "id": "view-in-github",
        "colab_type": "text"
      },
      "source": [
        "<a href=\"https://colab.research.google.com/github/ZOUCH-AMIN/ABC-classification/blob/main/kmean_sales.ipynb\" target=\"_parent\"><img src=\"https://colab.research.google.com/assets/colab-badge.svg\" alt=\"Open In Colab\"/></a>"
      ]
    },
    {
      "cell_type": "code",
      "metadata": {
        "id": "UiRq6ab5F2Je"
      },
      "source": [
        "import pandas as pd\n",
        "import numpy as np\n",
        "# lire les données dans une dataframe\n",
        "df = pd.read_csv(\"https://raw.githubusercontent.com/ZOUCH-AMIN/ABC-classification/main/sales.csv\")"
      ],
      "execution_count": null,
      "outputs": []
    },
    {
      "cell_type": "code",
      "metadata": {
        "id": "OTmZ6XtQS-5x"
      },
      "source": [
        "df[\"revenue\"] = df[\"units_sold\"] * df[\"price\"]"
      ],
      "execution_count": null,
      "outputs": []
    },
    {
      "cell_type": "code",
      "metadata": {
        "id": "kHU_FEGQTCkR"
      },
      "source": [
        "import seaborn as sns\n",
        "sns.distplot(df[\"revenue\"])"
      ],
      "execution_count": null,
      "outputs": []
    },
    {
      "cell_type": "code",
      "metadata": {
        "id": "rcqpYlePTEX_"
      },
      "source": [
        "def bins(x):\n",
        "    for bar in range(20000, 820000, 20000):\n",
        "        if x <= bar:\n",
        "            return bar\n",
        "# Créé une nouvelle colonne pour appliquer la fonction bins\n",
        "df[\"rev_dist\"] = df[\"revenue\"].apply(lambda x: bins(x))"
      ],
      "execution_count": null,
      "outputs": []
    },
    {
      "cell_type": "code",
      "metadata": {
        "id": "JOr35ozPUDOe"
      },
      "source": [
        "df[\"count\"] = 1\n",
        "# Créé la table pivot de la distribution des revenues\n",
        "pivot_table = pd.pivot_table(df, index = [\"rev_dist\"], values = [\"count\"], aggfunc = np.sum)"
      ],
      "execution_count": null,
      "outputs": []
    },
    {
      "cell_type": "code",
      "metadata": {
        "id": "iFDAhEGKUjS5"
      },
      "source": [
        "# importer le modèle depuis SKLearn\n",
        "from sklearn.cluster import KMeans\n",
        "# K -clusters est égal à 3 parce que les produit seront classifié dans A, B ou C\n",
        "kmeans = KMeans(n_clusters=3)\n",
        "kmeans.fit(pivot_table)"
      ],
      "execution_count": null,
      "outputs": []
    },
    {
      "cell_type": "code",
      "metadata": {
        "id": "kXNhSheNVHPD"
      },
      "source": [
        "pivot_table[\"category\"] = kmeans.labels_"
      ],
      "execution_count": null,
      "outputs": []
    },
    {
      "cell_type": "code",
      "metadata": {
        "id": "-wE7I8NTVufc"
      },
      "source": [
        "ABC_dict = {    \n",
        "    0: \"A\",\n",
        "    1: \"C\",\n",
        "    2: \"B\"\n",
        "}\n",
        "pivot_table[\"ABC\"] = pivot_table[\"category\"].apply(lambda x: ABC_dict[x])"
      ],
      "execution_count": null,
      "outputs": []
    },
    {
      "cell_type": "code",
      "metadata": {
        "id": "DgmNwmmnspMo"
      },
      "source": [
        "df = pd.merge(df, pivot_table, on = \"rev_dist\", how =\"left\")"
      ],
      "execution_count": null,
      "outputs": []
    },
    {
      "cell_type": "code",
      "metadata": {
        "id": "L_dyw3ldtHz-"
      },
      "source": [
        "df[\"count\"] = 1\n",
        "res = df.groupby('ABC').agg({'count': 'sum', 'revenue': 'sum'})\n",
        "res['percent_articles'] = res['count'].transform(lambda x: (x/x.sum()) * 100)\n",
        "res['percent_turnover'] = res['revenue'].transform(lambda x: (x/x.sum()) * 100)\n",
        "print(res)"
      ],
      "execution_count": null,
      "outputs": []
    }
  ]
}